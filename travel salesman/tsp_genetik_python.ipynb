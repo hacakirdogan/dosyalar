{
 "cells": [
  {
   "cell_type": "markdown",
   "metadata": {},
   "source": [
    "KONU: Üsküdar'da bulunan cam atık konteynerlerini dolaşacak araç için en kısa rotanın bulunması."
   ]
  },
  {
   "cell_type": "markdown",
   "metadata": {},
   "source": [
    "YÖNTEM: Problem TSP olarak kurgulanıp Genetik Algoritma metoduyla çözülmüştür."
   ]
  },
  {
   "cell_type": "code",
   "execution_count": 1,
   "metadata": {},
   "outputs": [],
   "source": [
    "from sys import maxsize\n",
    "from time import time\n",
    "from random import random, randint, sample\n",
    "import numpy as np"
   ]
  },
  {
   "cell_type": "code",
   "execution_count": 2,
   "metadata": {},
   "outputs": [],
   "source": [
    "import os\n",
    "os.environ['PROJ_LIB']=r'C:\\Users\\user\\Anaconda3\\pkgs\\proj4-5.2.0-ha925a31_1\\Library\\share'\n",
    "from mpl_toolkits.basemap import Basemap"
   ]
  },
  {
   "cell_type": "code",
   "execution_count": 3,
   "metadata": {},
   "outputs": [],
   "source": [
    "class Gen: #bir konteyner ((x, y) koordinatları olarak gösterilir)\n",
    "    def __init__(self, mah, x, y):\n",
    "        self.mah = mah\n",
    "        self.x = x\n",
    "        self.y = y\n",
    "    \n",
    "    def mesafe_ölç(self, gen):\n",
    "        xMes = abs(self.x - gen.x)\n",
    "        yMes = abs(self.y - gen.y)\n",
    "        mesafe = (np.sqrt((xMes ** 2) + (yMes ** 2)))*111\n",
    "        return mesafe\n",
    "    \n",
    "    def __repr__(self):\n",
    "        return \"(\" + str(self.mah) + \",\" + str(self.x) + \",\" + str(self.y) + \")\""
   ]
  },
  {
   "cell_type": "code",
   "execution_count": 4,
   "metadata": {},
   "outputs": [],
   "source": [
    "class Kromozom:  # Rota: Tek güzergah\n",
    "    def __init__(self, genler):\n",
    "        assert(len(genler) > 3)\n",
    "        self.genler = genler\n",
    "        self.__reset_params()\n",
    "\n",
    "    def swap(self, gen_1, gen_2):\n",
    "        self.genler[0]\n",
    "        a, b = self.genler.index(gen_1), self.genler.index(gen_2)\n",
    "        self.genler[b], self.genler[a] = self.genler[a], self.genler[b]\n",
    "        self.__reset_params()\n",
    "\n",
    "    def ekle(self, gen):\n",
    "        self.genler.append(gen)\n",
    "        self.__reset_params()\n",
    "\n",
    "    @property\n",
    "    def fitness(self):\n",
    "        if self.__fitness == 0:\n",
    "            self.__fitness = 1 / self.gezi_maliyeti  # gezi maliyetini normalize\n",
    "        return self.__fitness\n",
    "\n",
    "    @property\n",
    "    def gezi_maliyeti(self):  # rota uzunluğu\n",
    "        if self.__gezi_maliyeti == 0:\n",
    "            for i in range(len(self.genler)):\n",
    "                orijin = self.genler[i]\n",
    "                if i == len(self.genler) - 1:\n",
    "                    mes = self.genler[0]\n",
    "                else:\n",
    "                    mes = self.genler[i+1]\n",
    "\n",
    "                self.__gezi_maliyeti += orijin.mesafe_ölç(mes)\n",
    "\n",
    "        return self.__gezi_maliyeti\n",
    "\n",
    "    def __reset_params(self):\n",
    "        self.__gezi_maliyeti = 0\n",
    "        self.__fitness = 0\n",
    "        \n",
    "    def __repr__(self):\n",
    "        return \"(\" + str(self.genler) + \",\" + str(self.__reset_params()) + \")\""
   ]
  },
  {
   "cell_type": "code",
   "execution_count": 5,
   "metadata": {},
   "outputs": [],
   "source": [
    "class Populasyon:\n",
    "    def __init__(self, bireyler):\n",
    "        self.bireyler = bireyler\n",
    "\n",
    "    @staticmethod\n",
    "    def gen_bireyler(sz, genler):\n",
    "        bireyler = []\n",
    "        for _ in range(sz):\n",
    "            bireyler.append(Kromozom(sample(genler, len(genler))))\n",
    "        return Populasyon(bireyler)\n",
    "\n",
    "    def ekle(self, rota):\n",
    "        self.bireyler.append(rota)\n",
    "\n",
    "    def çıkar(self, rota):\n",
    "        self.bireyler.remove(rota)\n",
    "\n",
    "    def enuygunu_al(self):\n",
    "        enuygun = self.bireyler[0]\n",
    "        for rota in self.bireyler:\n",
    "            if rota.fitness > enuygun.fitness:\n",
    "                enuygun = rota\n",
    "        return enuygun\n",
    "    \n",
    "    def __repr__(self):\n",
    "        return \"(\" + str(self.bireyler) + \")\""
   ]
  },
  {
   "cell_type": "code",
   "execution_count": 6,
   "metadata": {},
   "outputs": [],
   "source": [
    "def evrim(pop, turnuva_büyüklüğü, mut_oran):\n",
    "    yeni_jenerasyon = Populasyon([])\n",
    "    pop_büyüklüğü = len(pop.bireyler)\n",
    "    elitizm_num = pop_büyüklüğü // 2\n",
    "\n",
    "    # Elitizm\n",
    "    for _ in range(elitizm_num):\n",
    "        enuygun = pop.enuygunu_al()\n",
    "        yeni_jenerasyon.ekle(enuygun)\n",
    "        pop.çıkar(enuygun)\n",
    "\n",
    "    # Çaprazlama\n",
    "    for _ in range(elitizm_num, pop_büyüklüğü):\n",
    "        ebeveyn_1 = seçim(yeni_jenerasyon, turnuva_büyüklüğü)\n",
    "        ebeveyn_2 = seçim(yeni_jenerasyon, turnuva_büyüklüğü)\n",
    "        çocuk = çaprazla(ebeveyn_1, ebeveyn_2)\n",
    "        yeni_jenerasyon.ekle(çocuk)\n",
    "\n",
    "    # Mutasyon\n",
    "    for i in range(elitizm_num, pop_büyüklüğü):\n",
    "        mutasyon(yeni_jenerasyon.bireyler[i], mut_oran)\n",
    "\n",
    "    return yeni_jenerasyon\n",
    "\n",
    "def çaprazla(ebeveyn_1, ebeveyn_2):\n",
    "    def ebeveyn1_ile_doldur(çocuk, ebeveyn, genler_n):\n",
    "        start_at = randint(0, len(ebeveyn.genler)-genler_n-1)\n",
    "        finish_at = start_at + genler_n\n",
    "        for i in range(start_at, finish_at):\n",
    "            çocuk.genler[i] = ebeveyn_1.genler[i]\n",
    "\n",
    "    def ebeveyn2_ile_doldur(çocuk, ebeveyn):\n",
    "        j = 0\n",
    "        for i in range(0, len(ebeveyn.genler)):\n",
    "            if çocuk.genler[i] == None:\n",
    "                while ebeveyn.genler[j] in çocuk.genler:\n",
    "                    j += 1\n",
    "                çocuk.genler[i] = ebeveyn.genler[j]\n",
    "                j += 1\n",
    "\n",
    "    genler_n = len(ebeveyn_1.genler)\n",
    "    çocuk = Kromozom([None for _ in range(genler_n)])\n",
    "    ebeveyn1_ile_doldur(çocuk, ebeveyn_1, genler_n // 2)\n",
    "    ebeveyn2_ile_doldur(çocuk, ebeveyn_2)\n",
    "\n",
    "    return çocuk"
   ]
  },
  {
   "cell_type": "code",
   "execution_count": 18,
   "metadata": {},
   "outputs": [],
   "source": [
    "def mutasyon(birey, oran):\n",
    "    for _ in range(len(birey.genler)):\n",
    "        if random() < oran:\n",
    "            sel_genler = sample(birey.genler, 2)\n",
    "            birey.swap(sel_genler[0], sel_genler[1])\n",
    "\n",
    "\n",
    "def seçim(populasyon, rakipler_n):\n",
    "    return Populasyon(sample(populasyon.bireyler, rakipler_n)).enuygunu_al()\n",
    "\n",
    "\n",
    "def ga(genler, pop_büyüklüğü, n_gen, turnuva_büyüklüğü, mut_oran, verbose=1):\n",
    "    populasyon = Populasyon.gen_bireyler(pop_büyüklüğü, genler)\n",
    "    gelişim_aşamaları = {'maliyet': [populasyon.enuygunu_al().gezi_maliyeti]}\n",
    "    sayaç, jenerasyonlar, min_maliyet = 0, 0, maxsize\n",
    "\n",
    "    if verbose:\n",
    "        print(\"-- TSP-GA -- başlıyor...\")\n",
    "\n",
    "    start_time = time()\n",
    "    while sayaç < n_gen:\n",
    "        populasyon = evrim(populasyon, turnuva_büyüklüğü, mut_oran)\n",
    "        maliyet = round(populasyon.enuygunu_al().gezi_maliyeti, 2)\n",
    "\n",
    "        if maliyet < min_maliyet:\n",
    "            sayaç, min_maliyet = 0, maliyet\n",
    "        else:\n",
    "            sayaç += 1\n",
    "\n",
    "        jenerasyonlar += 1\n",
    "        gelişim_aşamaları['maliyet'].append(maliyet)\n",
    "\n",
    "    total_time = round(time() - start_time, 6)\n",
    "\n",
    "    if verbose:\n",
    "        print(\"-- TSP-GA -- {} jenerasyon sonra {} saniyede bitti\"\\\n",
    "              .format(jenerasyonlar, total_time))\n",
    "        print(\"-- TSP-GA -- Minimum gezi maliyeti {} KM\".format(min_maliyet))\n",
    "\n",
    "    gelişim_aşamaları['jenerasyonlar'] = jenerasyonlar\n",
    "    gelişim_aşamaları['toplam_zaman'] = total_time\n",
    "    gelişim_aşamaları['rota'] = populasyon.enuygunu_al()\n",
    "\n",
    "    return gelişim_aşamaları"
   ]
  },
  {
   "cell_type": "code",
   "execution_count": 15,
   "metadata": {},
   "outputs": [],
   "source": [
    "import matplotlib.pyplot as plt\n",
    "import pandas as pd"
   ]
  },
  {
   "cell_type": "code",
   "execution_count": 16,
   "metadata": {},
   "outputs": [],
   "source": [
    "def genleri_al(dosya_adı, sample_n=0):\n",
    "    df = pd.read_csv(dosya_adı)\n",
    "    genler = [Gen(row['MAH'], round(row['X'],6), round(row['Y'],6))\n",
    "             for _, row in df.iterrows()]\n",
    "\n",
    "    return genler if sample_n <= 0 else sample(genler, sample_n)"
   ]
  },
  {
   "cell_type": "code",
   "execution_count": 17,
   "metadata": {},
   "outputs": [],
   "source": [
    "konteynır_listesi = []\n",
    "konteynır_listesi = genleri_al('uskudar4.csv')"
   ]
  },
  {
   "cell_type": "code",
   "execution_count": 50,
   "metadata": {},
   "outputs": [
    {
     "name": "stdout",
     "output_type": "stream",
     "text": [
      "-- TSP-GA -- başlıyor...\n",
      "-- TSP-GA -- 66 jenerasyon sonra 10.820772 saniyede bitti\n",
      "-- TSP-GA -- Minimum gezi maliyeti 40.89 KM\n"
     ]
    }
   ],
   "source": [
    "gelişim_aşamaları = ga(genler=konteynır_listesi, pop_büyüklüğü=500, n_gen=20, \\\n",
    "                       turnuva_büyüklüğü=20, mut_oran=0.01, verbose=1)"
   ]
  },
  {
   "cell_type": "code",
   "execution_count": 40,
   "metadata": {},
   "outputs": [],
   "source": [
    "def plot(maliyetler, birey, save_to=None):\n",
    "    plt.figure(1)\n",
    "    plt.subplot(121)\n",
    "    plot_ga_yakınsama(maliyetler)\n",
    "\n",
    "    plt.subplot(122)\n",
    "    plot_rota(birey)\n",
    "\n",
    "    if save_to is not None:\n",
    "        plt.savefig(save_to)\n",
    "        plt.close()\n",
    "    else:\n",
    "        plt.show()\n",
    "\n",
    "def plot_ga_yakınsama(maliyetler):\n",
    "    x = range(len(maliyetler))\n",
    "    plt.title(\"GA Yakınsama\")\n",
    "    plt.xlabel('jenerasyon')\n",
    "    plt.ylabel('maliyet (KM)')\n",
    "    plt.text(x[len(x) // 2], maliyetler[0], 'min maliyet: {} KM'\\\n",
    "             .format(maliyetler[-1]), ha='center', va='center')\n",
    "    plt.plot(x, maliyetler, '-')\n",
    "\n",
    "\n",
    "def plot_rota(birey):\n",
    "    m = Basemap(projection='lcc', resolution=None,\n",
    "                width=5E6, height=5E6,\n",
    "                lat_0=-15, lon_0=-56)\n",
    "\n",
    "    plt.axis('off')\n",
    "    plt.title(\"En Kısa Rota\")\n",
    "\n",
    "    for i in range(0, len(birey.genler)):\n",
    "        x, y = m(birey.genler[i].y, birey.genler[i].x)\n",
    "\n",
    "        plt.plot(x, y, 'ok', c='r', markersize=5)\n",
    "        if i == len(birey.genler) - 1:\n",
    "            x2, y2 = m(birey.genler[0].y, birey.genler[0].x)\n",
    "        else:\n",
    "            x2, y2 = m(birey.genler[i+1].y, birey.genler[i+1].x)\n",
    "\n",
    "        plt.plot([x, x2], [y, y2], 'k-', c='r')"
   ]
  },
  {
   "cell_type": "code",
   "execution_count": 51,
   "metadata": {
    "scrolled": true
   },
   "outputs": [
    {
     "data": {
      "image/png": "[encoded data removed]",
      "text/plain": [
       "<Figure size 1440x360 with 2 Axes>"
      ]
     },
     "metadata": {
      "needs_background": "light"
     },
     "output_type": "display_data"
    }
   ],
   "source": [
    "plt.figure(figsize=(20,5))\n",
    "plot(gelişim_aşamaları['maliyet'], gelişim_aşamaları['rota'])"
   ]
  },
  {
   "cell_type": "code",
   "execution_count": 52,
   "metadata": {
    "scrolled": false
   },
   "outputs": [
    {
     "data": {
      "text/plain": [
       "{'maliyet': [97.37333689743642,\n",
       "  85.39,\n",
       "  76.3,\n",
       "  64.57,\n",
       "  63.26,\n",
       "  60.9,\n",
       "  57.97,\n",
       "  55.56,\n",
       "  53.4,\n",
       "  52.52,\n",
       "  52.16,\n",
       "  51.04,\n",
       "  48.76,\n",
       "  48.76,\n",
       "  48.76,\n",
       "  48.76,\n",
       "  47.99,\n",
       "  47.99,\n",
       "  47.99,\n",
       "  47.99,\n",
       "  47.99,\n",
       "  47.62,\n",
       "  47.36,\n",
       "  46.77,\n",
       "  46.77,\n",
       "  46.77,\n",
       "  46.77,\n",
       "  45.94,\n",
       "  45.94,\n",
       "  45.94,\n",
       "  45.87,\n",
       "  43.67,\n",
       "  43.04,\n",
       "  41.96,\n",
       "  41.96,\n",
       "  41.96,\n",
       "  41.84,\n",
       "  41.77,\n",
       "  41.77,\n",
       "  41.77,\n",
       "  41.75,\n",
       "  41.65,\n",
       "  41.59,\n",
       "  41.59,\n",
       "  41.59,\n",
       "  41.59,\n",
       "  40.89,\n",
       "  40.89,\n",
       "  40.89,\n",
       "  40.89,\n",
       "  40.89,\n",
       "  40.89,\n",
       "  40.89,\n",
       "  40.89,\n",
       "  40.89,\n",
       "  40.89,\n",
       "  40.89,\n",
       "  40.89,\n",
       "  40.89,\n",
       "  40.89,\n",
       "  40.89,\n",
       "  40.89,\n",
       "  40.89,\n",
       "  40.89,\n",
       "  40.89,\n",
       "  40.89,\n",
       "  40.89],\n",
       " 'jenerasyonlar': 66,\n",
       " 'toplam_zaman': 10.820772,\n",
       " 'rota': ([(KÜPLÜCE,41.035775,29.056574), (KÜÇÜKSU,41.065622,29.071771), (KANDİLLİ,41.069532,29.061323), (KULELİ,41.059455,29.059126), (ÇENGELKÖY,41.051816,29.059435), (BEYLERBEYİ,41.042332,29.046226), (SULTANTEPE,41.028428,29.022166), (MİMAR SİNAN,41.022978,29.019766), (AZİZ MAHMUT HÜDAYİ,41.022845,29.011077), (SALACAK,41.016998,29.012171), (AHMEDİYE,41.018553,29.016546), (ZEYNEP KAMİL,41.015199,29.020723), (SELİMİYE,41.006455,29.019592), (BARBAROS,41.013094,29.032115), (VALİDE-İ ATİK,41.018388,29.02644), (MURATREİS,41.022143,29.030054), (SELAMİ ALİ,41.025795,29.029211), (İCADİYE,41.028857,29.034503), (KUZGUNCUK,41.033859,29.036303), (BURHANİYE,41.029142,29.05264), (ALTUNİZADE,41.020725,29.045745), (ACIBADEM,41.006159,29.049121), (KÜÇÜK ÇAMLICA,41.015673,29.063038), (ÜNALAN,41.000925,29.065692), (CUMHURİYET,41.011267,29.081408), (BULGURLU,41.01867,29.078851), (KISIKLI,41.024619,29.071746), (FERAH,41.033477,29.073285), (YAVUZTÜRK,41.041798,29.085996), (BAHÇELİEVLER,41.052993,29.076566), (GÜZELTEPE,41.05013,29.071191), (MEHMET AKİF ERSOY,41.042058,29.071553), (KİRAZLITEPE,41.038878,29.061008)],None)}"
      ]
     },
     "execution_count": 52,
     "metadata": {},
     "output_type": "execute_result"
    }
   ],
   "source": [
    "gelişim_aşamaları"
   ]
  },
  {
   "cell_type": "code",
   "execution_count": null,
   "metadata": {},
   "outputs": [],
   "source": []
  }
 ],
 "metadata": {
  "kernelspec": {
   "display_name": "Python 3",
   "language": "python",
   "name": "python3"
  },
  "language_info": {
   "codemirror_mode": {
    "name": "ipython",
    "version": 3
   },
   "file_extension": ".py",
   "mimetype": "text/x-python",
   "name": "python",
   "nbconvert_exporter": "python",
   "pygments_lexer": "ipython3",
   "version": "3.7.4"
  }
 },
 "nbformat": 4,
 "nbformat_minor": 2
}
